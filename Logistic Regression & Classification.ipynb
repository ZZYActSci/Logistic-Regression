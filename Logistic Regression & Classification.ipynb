{
 "cells": [
  {
   "cell_type": "code",
   "execution_count": 1,
   "id": "c1132fff",
   "metadata": {
    "ExecuteTime": {
     "end_time": "2022-02-27T00:39:27.255719Z",
     "start_time": "2022-02-27T00:39:25.799200Z"
    }
   },
   "outputs": [],
   "source": [
    "import pandas as pd\n",
    "import numpy as np\n",
    "from sklearn.preprocessing import StandardScaler"
   ]
  },
  {
   "cell_type": "markdown",
   "id": "1cd5f8b4",
   "metadata": {},
   "source": [
    "### Logistic Regression on Default dataset"
   ]
  },
  {
   "cell_type": "code",
   "execution_count": 2,
   "id": "e7f10aeb",
   "metadata": {
    "ExecuteTime": {
     "end_time": "2022-02-27T00:39:27.956905Z",
     "start_time": "2022-02-27T00:39:27.927213Z"
    }
   },
   "outputs": [
    {
     "name": "stdout",
     "output_type": "stream",
     "text": [
      "No     9667\n",
      "Yes     333\n",
      "Name: default, dtype: int64\n",
      "No     7056\n",
      "Yes    2944\n",
      "Name: student, dtype: int64\n"
     ]
    }
   ],
   "source": [
    "df = pd.read_csv('Default.csv')\n",
    "print(df.default.value_counts())\n",
    "print(df.student.value_counts())\n",
    "X = df[['balance','income']]\n",
    "y = np.array([1 if (i =='Yes') else 0 for i in df['default'] ]).reshape((X.shape[0],))"
   ]
  },
  {
   "cell_type": "code",
   "execution_count": 3,
   "id": "b85df91a",
   "metadata": {
    "ExecuteTime": {
     "end_time": "2022-02-27T00:39:28.486143Z",
     "start_time": "2022-02-27T00:39:28.470180Z"
    }
   },
   "outputs": [
    {
     "data": {
      "text/html": [
       "<div>\n",
       "<style scoped>\n",
       "    .dataframe tbody tr th:only-of-type {\n",
       "        vertical-align: middle;\n",
       "    }\n",
       "\n",
       "    .dataframe tbody tr th {\n",
       "        vertical-align: top;\n",
       "    }\n",
       "\n",
       "    .dataframe thead th {\n",
       "        text-align: right;\n",
       "    }\n",
       "</style>\n",
       "<table border=\"1\" class=\"dataframe\">\n",
       "  <thead>\n",
       "    <tr style=\"text-align: right;\">\n",
       "      <th></th>\n",
       "      <th>default</th>\n",
       "      <th>student</th>\n",
       "      <th>balance</th>\n",
       "      <th>income</th>\n",
       "    </tr>\n",
       "  </thead>\n",
       "  <tbody>\n",
       "    <tr>\n",
       "      <th>0</th>\n",
       "      <td>No</td>\n",
       "      <td>No</td>\n",
       "      <td>729.526495</td>\n",
       "      <td>44361.625074</td>\n",
       "    </tr>\n",
       "    <tr>\n",
       "      <th>1</th>\n",
       "      <td>No</td>\n",
       "      <td>Yes</td>\n",
       "      <td>817.180407</td>\n",
       "      <td>12106.134700</td>\n",
       "    </tr>\n",
       "    <tr>\n",
       "      <th>2</th>\n",
       "      <td>No</td>\n",
       "      <td>No</td>\n",
       "      <td>1073.549164</td>\n",
       "      <td>31767.138947</td>\n",
       "    </tr>\n",
       "  </tbody>\n",
       "</table>\n",
       "</div>"
      ],
      "text/plain": [
       "  default student      balance        income\n",
       "0      No      No   729.526495  44361.625074\n",
       "1      No     Yes   817.180407  12106.134700\n",
       "2      No      No  1073.549164  31767.138947"
      ]
     },
     "execution_count": 3,
     "metadata": {},
     "output_type": "execute_result"
    }
   ],
   "source": [
    "df.head(3)"
   ]
  },
  {
   "cell_type": "code",
   "execution_count": 4,
   "id": "e52e717d",
   "metadata": {
    "ExecuteTime": {
     "end_time": "2022-02-27T00:39:45.420884Z",
     "start_time": "2022-02-27T00:39:45.370305Z"
    }
   },
   "outputs": [],
   "source": [
    "from sklearn.model_selection import train_test_split\n",
    "X_train, X_test, y_train, y_test = train_test_split(X, y, test_size=0.3, random_state=0)\n",
    "#### Scale the features to make our result stable\n",
    "\n",
    "#from sklearn.preprocessing import OneHotEncoder\n",
    "# ohe = OneHotEncoder()\n",
    "scaler = StandardScaler()\n",
    "X_train = scaler.fit_transform(X_train)"
   ]
  },
  {
   "cell_type": "code",
   "execution_count": 5,
   "id": "f30cdceb",
   "metadata": {
    "ExecuteTime": {
     "end_time": "2022-02-27T00:39:57.442939Z",
     "start_time": "2022-02-27T00:39:57.361694Z"
    }
   },
   "outputs": [
    {
     "data": {
      "text/plain": [
       "array([[2880,    7],\n",
       "       [  75,   38]])"
      ]
     },
     "execution_count": 5,
     "metadata": {},
     "output_type": "execute_result"
    }
   ],
   "source": [
    "### Black Box Logistic Regression with no penalty\n",
    "\n",
    "from sklearn.linear_model import LogisticRegression\n",
    "model = LogisticRegression(penalty = 'none',random_state=0)\n",
    "model.fit(X_train,y_train)\n",
    "\n",
    "model.coef_\n",
    "\n",
    "model.intercept_\n",
    "\n",
    "X_test = scaler.transform(X_test)\n",
    "\n",
    "y_pred = model.predict(X_test)\n",
    "\n",
    "from sklearn.metrics import accuracy_score\n",
    "accuracy_score(y_test,y_pred)\n",
    "\n",
    "from sklearn.metrics import confusion_matrix\n",
    "confusion_matrix(y_test,y_pred)"
   ]
  },
  {
   "cell_type": "markdown",
   "id": "7379923a",
   "metadata": {},
   "source": [
    "## Newton's method"
   ]
  },
  {
   "cell_type": "markdown",
   "id": "452f0ad9",
   "metadata": {},
   "source": [
    "$$ \\beta_{t+1} = \\beta_{t} - H^{-1}(f(\\beta_t))\\nabla(f(\\beta_t)) $$ "
   ]
  },
  {
   "cell_type": "code",
   "execution_count": 6,
   "id": "2d5a3acb",
   "metadata": {
    "ExecuteTime": {
     "end_time": "2022-02-27T00:41:06.210397Z",
     "start_time": "2022-02-27T00:41:06.207695Z"
    }
   },
   "outputs": [],
   "source": [
    "def sigmoid(x):\n",
    "    return 1/(1+np.exp(-x))"
   ]
  },
  {
   "cell_type": "code",
   "execution_count": 7,
   "id": "0314373f",
   "metadata": {
    "ExecuteTime": {
     "end_time": "2022-02-27T00:41:06.713174Z",
     "start_time": "2022-02-27T00:41:06.709900Z"
    }
   },
   "outputs": [],
   "source": [
    "iters = 10000\n",
    "beta = np.zeros((3,1))\n",
    "coef_vec = np.ones(len(X_train))"
   ]
  },
  {
   "cell_type": "code",
   "execution_count": 8,
   "id": "92489950",
   "metadata": {
    "ExecuteTime": {
     "end_time": "2022-02-27T00:41:07.102207Z",
     "start_time": "2022-02-27T00:41:07.099041Z"
    }
   },
   "outputs": [],
   "source": [
    "X_train = np.c_[coef_vec,X_train]"
   ]
  },
  {
   "cell_type": "code",
   "execution_count": 9,
   "id": "28ab115f",
   "metadata": {
    "ExecuteTime": {
     "end_time": "2022-02-27T00:41:09.842845Z",
     "start_time": "2022-02-27T00:41:07.561640Z"
    }
   },
   "outputs": [
    {
     "name": "stdout",
     "output_type": "stream",
     "text": [
      "[4852.03026392]\n",
      "[1335.3488728]\n",
      "[835.74356785]\n",
      "[640.39047902]\n",
      "[561.93210997]\n",
      "[540.48959727]\n",
      "[538.04848538]\n",
      "[538.00381926]\n",
      "[538.00380074]\n"
     ]
    }
   ],
   "source": [
    "precision = 0.00001\n",
    "loss_old = 1\n",
    "for i in range(iters):\n",
    "    # compute loss and the gradient\n",
    "    loss = - (y_train.T @ np.log(sigmoid(X_train @ beta)) + (1-y_train.T) @ np.log(1-sigmoid(X_train @ beta)))\n",
    "    gradient = X_train.T @ (sigmoid(X_train@beta)-y_train.reshape((-1,1)))\n",
    "    \n",
    "    # D is the diagnoal matrix in the middle of Hessian matrix Xt@D@X\n",
    "    D = np.diag([float(sigmoid(beta.T@X_train[i,:].T)*(1-sigmoid(beta.T@X_train[i,:].T))) for i in range(len(X_train))])\n",
    "    \n",
    "    # compute hessian using D and X\n",
    "    hessian = X_train.T @ D @ X_train\n",
    "    \n",
    "    # update step for Newton's method\n",
    "    beta = beta - np.linalg.inv(hessian) @ gradient\n",
    "    if abs(loss_old - loss) < precision:\n",
    "        break\n",
    "    else:\n",
    "        loss_old = loss # store the loss and previous loss.\n",
    "    print(loss)"
   ]
  },
  {
   "cell_type": "code",
   "execution_count": 10,
   "id": "2f5d6fb9",
   "metadata": {
    "ExecuteTime": {
     "end_time": "2022-02-27T00:41:10.458107Z",
     "start_time": "2022-02-27T00:41:10.453240Z"
    }
   },
   "outputs": [
    {
     "data": {
      "text/plain": [
       "array([[-6.12225178],\n",
       "       [ 2.66840103],\n",
       "       [ 0.23775349]])"
      ]
     },
     "execution_count": 10,
     "metadata": {},
     "output_type": "execute_result"
    }
   ],
   "source": [
    "beta # Coefficients obtained from our newton method"
   ]
  },
  {
   "cell_type": "code",
   "execution_count": 11,
   "id": "5546650f",
   "metadata": {
    "ExecuteTime": {
     "end_time": "2022-02-27T00:41:10.990054Z",
     "start_time": "2022-02-27T00:41:10.985605Z"
    }
   },
   "outputs": [
    {
     "name": "stdout",
     "output_type": "stream",
     "text": [
      "[[-6.12225801]\n",
      " [ 2.66840546]\n",
      " [ 0.2377525 ]]\n"
     ]
    }
   ],
   "source": [
    "print(np.c_[model.intercept_,model.coef_].T) # Coefficients obtained from sklearn"
   ]
  },
  {
   "cell_type": "markdown",
   "id": "fafe60c1",
   "metadata": {},
   "source": [
    " Despite Newton's method requires intensive calculation (involving the hessian matrix), it converges quite fats given that initial starting values are zero for the coefficients. By just running for 9 iterations, this algorithm can achieve almost same coeficients as the black box results. "
   ]
  },
  {
   "cell_type": "code",
   "execution_count": null,
   "id": "5a911209",
   "metadata": {},
   "outputs": [],
   "source": []
  }
 ],
 "metadata": {
  "kernelspec": {
   "display_name": "Python 3 (ipykernel)",
   "language": "python",
   "name": "python3"
  },
  "language_info": {
   "codemirror_mode": {
    "name": "ipython",
    "version": 3
   },
   "file_extension": ".py",
   "mimetype": "text/x-python",
   "name": "python",
   "nbconvert_exporter": "python",
   "pygments_lexer": "ipython3",
   "version": "3.9.7"
  },
  "toc": {
   "base_numbering": 1,
   "nav_menu": {},
   "number_sections": true,
   "sideBar": true,
   "skip_h1_title": false,
   "title_cell": "Table of Contents",
   "title_sidebar": "Contents",
   "toc_cell": false,
   "toc_position": {},
   "toc_section_display": true,
   "toc_window_display": false
  }
 },
 "nbformat": 4,
 "nbformat_minor": 5
}
